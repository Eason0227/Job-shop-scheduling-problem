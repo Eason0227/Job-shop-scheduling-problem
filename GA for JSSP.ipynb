{
 "cells": [
  {
   "cell_type": "markdown",
   "metadata": {},
   "source": [
    "### initialization setting"
   ]
  },
  {
   "cell_type": "code",
   "execution_count": 70,
   "metadata": {},
   "outputs": [],
   "source": [
    "import pandas as pd\n",
    "import numpy as np\n",
    "import time\n",
    "\n",
    "processing_df= pd.read_csv('Processing_time.csv')\n",
    "sequence_df = pd.read_csv('Machine_sequence.csv')\n",
    "\n",
    "processing_df = processing_df.drop(['Job'],axis=1)\n",
    "sequence_df = sequence_df.drop(['Job'],axis=1)\n",
    "\n",
    "num_machine = processing_df.shape[0] # number of machines\n",
    "num_job = processing_df.shape[1] # number of jobs\n",
    "num_gene = num_machine * num_job # number of genes in a chromosome\n",
    "\n",
    "pt=[list(map(int, processing_df.iloc[i])) for i in range(num_job)]\n",
    "ms=[list(map(int,sequence_df.iloc[i])) for i in range(num_job)]"
   ]
  },
  {
   "cell_type": "markdown",
   "metadata": {},
   "source": [
    "### generate initial population"
   ]
  },
  {
   "cell_type": "code",
   "execution_count": 71,
   "metadata": {},
   "outputs": [],
   "source": [
    "def inital_population(population_size,population_list):\n",
    "    for i in range(population_size):\n",
    "        ini_pop = list(np.random.permutation(num_gene) % num_job) # generate a random permutation of 0 to num_job*num_mc-1\n",
    "        population_list.append(ini_pop)                           # convert to job number format, every job appears m times\n",
    "    return population_list"
   ]
  },
  {
   "cell_type": "markdown",
   "metadata": {},
   "source": [
    "### two point crossover"
   ]
  },
  {
   "cell_type": "code",
   "execution_count": 72,
   "metadata": {},
   "outputs": [],
   "source": [
    "def crossover(population_list,crossover_rate): \n",
    "    parent_list = population_list.copy() # preserve the original parent chromosomes\n",
    "    offspring_list= population_list.copy()\n",
    "    parent_sequence =list(np.random.permutation(population_size)) # 產生一個組合去選擇用哪幾組父代染色體進行交配\n",
    "    for i in range(0,population_size,2):\n",
    "        crossover_prob=np.random.rand()\n",
    "        if crossover_prob <= crossover_rate:\n",
    "            parent_1 = population_list[ parent_sequence[i] ][:]\n",
    "            parent_2 = population_list[ parent_sequence[i+1] ][:]\n",
    "            child_1 = parent_1[:]\n",
    "            child_2 = parent_2[:]\n",
    "            crossover_point = list( np.random.choice(num_gene, 2, replace=False) ) # 產生2個不同的交配點，並由小到大排序\n",
    "            crossover_point.sort()\n",
    "            \n",
    "            child_1[crossover_point[0]:crossover_point[1]] = parent_2[crossover_point[0]:crossover_point[1]] # parent_2中間的基因移到parent_1中間，產生child1\n",
    "            child_2[crossover_point[0]:crossover_point[1]] = parent_1[crossover_point[0]:crossover_point[1]] # parent_1中間的基因移到parent_2中間，產生child2\n",
    "\n",
    "            offspring_list[parent_sequence[i]] = child_1[:]\n",
    "            offspring_list[parent_sequence[i+1]] = child_2[:]\n",
    "    return parent_list,offspring_list"
   ]
  },
  {
   "cell_type": "markdown",
   "metadata": {},
   "source": [
    "### repairment\n",
    "每個工件在染色體出現的次數為10次，但由於上面進行交配的動作，會導致有些染色體內的工件出現次數會小於10或大於10，而形成一個不可行的排程解，所以這裡必須針對不可行的染色體進行修復動作，使它成為一個可行排程"
   ]
  },
  {
   "cell_type": "code",
   "execution_count": 73,
   "metadata": {},
   "outputs": [],
   "source": [
    "def repairmet(offspring_list):\n",
    "    stop = True\n",
    "\n",
    "    while stop: # 不斷進行修復，直到每個job的出現次數等於machine數\n",
    "        \n",
    "        for i in range(population_size):\n",
    "            unique_elements, counts = np.unique( offspring_list[i] , return_counts=True) #計算每個job的出現次數\n",
    "            if sum(counts!= num_machine ) != 0: # 有多餘job和缺少的job \n",
    "                less_job = np.argmin(counts) # 出現次數缺少的job\n",
    "                large_job = np.argmax(counts) # 出現次數多出的job\n",
    "                offspring_array = np.array( offspring_list[i] )\n",
    "                offspring_job_large_index = np.where( offspring_array == large_job)[0][0] #  出現次數多出的job的第一個出現位置\n",
    "                offspring_list[i][offspring_job_large_index] = less_job # 出現次數的多的job，使用較少出現的job替代\n",
    "        counts_sum = 0\n",
    "        for j in range(population_size): # 檢查每隔chromosome是否出現異常的情況\n",
    "            unique_elements, counts = np.unique( offspring_list[j] , return_counts=True)\n",
    "            if sum(counts!= num_machine ) != 0 :\n",
    "                counts_sum += 1\n",
    "        if counts_sum == 0:\n",
    "            stop = False\n",
    "    return offspring_list"
   ]
  },
  {
   "cell_type": "markdown",
   "metadata": {},
   "source": [
    "### mutation\n",
    "依據 mutation selection rate 決定染色體中有多少百分比的基因要進行突變，假設每條染色體有六個基因， mutation selection rate 為0.5，則有3個基因要進行突變。\n"
   ]
  },
  {
   "cell_type": "code",
   "execution_count": 74,
   "metadata": {},
   "outputs": [],
   "source": [
    "def mutation(offspring_list,mutation_rate,num_mutation_jobs):\n",
    "    for i in range(population_size):\n",
    "        mutation_prob=np.random.rand()\n",
    "        if  mutation_prob <= mutation_rate:\n",
    "            mutation_position = list(np.random.choice(num_gene, num_mutation_jobs, replace=False)) # 選擇突變的位置\n",
    "            muta_list = []\n",
    "            for j in mutation_position:\n",
    "                muta_list.append(offspring_list[i][j]) # 要突變的基因list\n",
    "            muta_list.append(muta_list[0]) # 尾部加上第一個基因\n",
    "            muta_list.pop(0) # 將第一個基因刪除\n",
    "            count = 0\n",
    "            for k in mutation_position:\n",
    "                offspring_list[i][k] = muta_list[count] # 將用突變後的基因取代原本的\n",
    "                count += 1\n",
    "    return offspring_list"
   ]
  },
  {
   "cell_type": "markdown",
   "metadata": {},
   "source": [
    "### fitness value(calculate makespan)\n",
    "計算每個染色體所形成的排程結果的完工時間，並將其記錄，以利後續選擇時能比較"
   ]
  },
  {
   "cell_type": "code",
   "execution_count": 75,
   "metadata": {},
   "outputs": [],
   "source": [
    "def fitness_caculate(total_chromosome):\n",
    "    chrom_fitness,chrom_fit=[],[]\n",
    "    total_fitness=0\n",
    "    for m in range(population_size*2):\n",
    "        j_keys=[j for j in range(num_job)]\n",
    "        key_count={key:0 for key in j_keys}\n",
    "        j_count={key:0 for key in j_keys}\n",
    "        m_keys=[j+1 for j in range(num_machine)]\n",
    "        m_count={key:0 for key in m_keys}\n",
    "        \n",
    "        for i in total_chromosome[m]:\n",
    "            gen_t=int(pt[i][key_count[i]])\n",
    "            gen_m=int(ms[i][key_count[i]])\n",
    "            j_count[i]=j_count[i]+gen_t\n",
    "            m_count[gen_m]=m_count[gen_m]+gen_t\n",
    "            \n",
    "            if m_count[gen_m]<j_count[i]:\n",
    "                m_count[gen_m]=j_count[i]\n",
    "            elif m_count[gen_m]>j_count[i]:\n",
    "                j_count[i]=m_count[gen_m]\n",
    "            \n",
    "            key_count[i]=key_count[i]+1\n",
    "\n",
    "        makespan = max(j_count.values()) # 在job中需要的最多完工時間的，即為makespan\n",
    "        chrom_fitness.append(1/makespan) # 因後續採用輪盤法時要最小化完工時間，因此每個chromosome所算出的適應值必須以倒數的方式記錄 \n",
    "        chrom_fit.append(makespan) # 計算每個chromosome原本的總完工時間\n",
    "        total_fitness = total_fitness + chrom_fitness[m]\n",
    "    return chrom_fit,chrom_fitness,total_fitness"
   ]
  },
  {
   "cell_type": "markdown",
   "metadata": {},
   "source": [
    "### selection(roulette wheel approach)"
   ]
  },
  {
   "cell_type": "code",
   "execution_count": 76,
   "metadata": {},
   "outputs": [],
   "source": [
    "def selection(chrom_fitness,total_fitness,population_list):\n",
    "    fitness_prob, fitness_cumulate_prob = [],[]\n",
    "\n",
    "    for i in range(population_size*2):\n",
    "        fitness_prob.append(chrom_fitness[i]/total_fitness) # 計算每個chromosome的fitness，佔所有chromosome的比例\n",
    "    for i in range(population_size*2):\n",
    "        cumulative = 0\n",
    "        for j in range(0,i+1): # 計算每個chromosome的fitness累績機率。\n",
    "            cumulative = cumulative + fitness_prob[j]\n",
    "        fitness_cumulate_prob.append(cumulative) \n",
    "\n",
    "    selection_rand=[np.random.rand() for i in range(population_size)] # 產生一組size為population大小的隨機數list\n",
    "\n",
    "    for i in range(population_size): # 選出新的一組Population\n",
    "        if selection_rand[i] <= fitness_cumulate_prob[0]: # 若第一組被選中時，將第一組chromosome加入\n",
    "            population_list[i]= total_chromosome[0].copy()\n",
    "        else:\n",
    "            for j in range(0,population_size*2-1): \n",
    "                if selection_rand[i] > fitness_cumulate_prob[j] and selection_rand[i] <= fitness_cumulate_prob[j+1]:\n",
    "                    population_list[i] = total_chromosome[j+1].copy()\n",
    "                    break\n",
    "    return population_list\n",
    "                "
   ]
  },
  {
   "cell_type": "markdown",
   "metadata": {},
   "source": [
    "### comparison"
   ]
  },
  {
   "cell_type": "code",
   "execution_count": 77,
   "metadata": {},
   "outputs": [],
   "source": [
    "def comparsion(chrom_fit,total_chromosome):\n",
    "    Tbest_current = 99999999999 # population中最好的染色體\n",
    "    for i in range(population_size*2):\n",
    "        if chrom_fit[i] < Tbest_current: # 找出population中最小的itness\n",
    "            Tbest_current = chrom_fit[i] \n",
    "            sequence_current = total_chromosome[i].copy() # 儲存population中有最小fitness的染色體\n",
    "    return Tbest_current,sequence_current"
   ]
  },
  {
   "cell_type": "code",
   "execution_count": 104,
   "metadata": {},
   "outputs": [],
   "source": [
    "# parameter\n",
    "population_size = 100\n",
    "num_iteration = 3000\n",
    "crossover_rate = 0.9\n",
    "mutation_rate = 0.1\n",
    "mutation_selection_rate = 0.1\n",
    "num_mutation_jobs = round(num_gene*mutation_selection_rate)"
   ]
  },
  {
   "cell_type": "code",
   "execution_count": 105,
   "metadata": {},
   "outputs": [
    {
     "name": "stdout",
     "output_type": "stream",
     "text": [
      "optimal solution [0, 3, 2, 9, 8, 5, 0, 5, 6, 6, 3, 6, 0, 8, 5, 9, 5, 7, 1, 4, 0, 9, 8, 8, 4, 1, 0, 7, 7, 9, 0, 9, 6, 5, 4, 9, 1, 9, 6, 8, 1, 5, 6, 4, 0, 4, 9, 3, 5, 3, 7, 5, 1, 3, 6, 8, 2, 9, 0, 7, 8, 4, 4, 7, 3, 2, 3, 5, 2, 4, 2, 7, 3, 8, 9, 1, 0, 7, 3, 7, 6, 2, 1, 2, 6, 7, 1, 8, 4, 0, 5, 2, 6, 4, 1, 1, 3, 8, 2, 2]\n",
      "optimal makespan: 884\n",
      "Wall time: 5min 53s\n"
     ]
    }
   ],
   "source": [
    "%%time\n",
    "Tbest=999999999999999\n",
    "makespan_record = []\n",
    "population_list = []\n",
    "start_time = time.time()\n",
    "# generate initial population\n",
    "population_list = inital_population(population_size = population_size,population_list=population_list)\n",
    "\n",
    "# Genetic_Algorithm \n",
    "for iter in range(num_iteration):\n",
    "    # generate offspring by crossover\n",
    "    parent_list , offspring_list = crossover(population_list = population_list,crossover_rate = crossover_rate)\n",
    "    # offspring repairment\n",
    "    offspring_list = repairmet(offspring_list)\n",
    "    # offspring mutation\n",
    "    offspring_list = mutation(offspring_list,mutation_rate = mutation_rate, num_mutation_jobs = num_mutation_jobs)\n",
    "    # all chromosome：parent and offspring\n",
    "    total_chromosome = parent_list.copy() + offspring_list.copy()\n",
    "    # calculate fitness for each chromosome \n",
    "    chrom_fit, chrom_fitness, total_fitness, = fitness_caculate(total_chromosome)\n",
    "    # select the new population\n",
    "    population_list = selection(chrom_fitness, total_fitness, population_list)\n",
    "    # comparision \n",
    "    Tbest_current , sequence_current = comparsion(chrom_fit,total_chromosome)\n",
    "    if Tbest_current <= Tbest: # 將目前這代population中最好的染色體，與迭代過程中最好的比較\n",
    "        Tbest = Tbest_current\n",
    "        sequence_best = sequence_current.copy()\n",
    "    makespan_record.append(Tbest)\n",
    "    \n",
    "\n",
    "'''----------result----------'''\n",
    "# Genetic_Algorithm()\n",
    "print(\"optimal solution\",sequence_best)\n",
    "print(\"optimal makespan:\",Tbest)"
   ]
  },
  {
   "cell_type": "code",
   "execution_count": 106,
   "metadata": {},
   "outputs": [
    {
     "data": {
      "image/png": "[encoded data removed]",
      "text/plain": [
       "<Figure size 640x480 with 1 Axes>"
      ]
     },
     "metadata": {},
     "output_type": "display_data"
    }
   ],
   "source": [
    "import matplotlib.pyplot as plt\n",
    "\n",
    "%matplotlib inline\n",
    "plt.plot([i for i in range(len(makespan_record))],makespan_record,'b')\n",
    "plt.ylabel('makespan',fontsize=15)\n",
    "plt.xlabel('iteraion',fontsize=15)\n",
    "plt.show()"
   ]
  },
  {
   "cell_type": "markdown",
   "metadata": {},
   "source": [
    "### plot gantt chart"
   ]
  },
  {
   "cell_type": "code",
   "execution_count": 107,
   "metadata": {},
   "outputs": [
    {
     "data": {
      "application/vnd.plotly.v1+json": {
       "config": {
        "linkText": "Export to plot.ly",
        "plotlyServerURL": "https://plot.ly",
        "showLink": false
       },
       "data": [
        {
         "fill": "toself",
         "fillcolor": "rgb(127, 127, 127)",
         "hoverinfo": "name",
         "legendgroup": "rgb(127, 127, 127)",
         "mode": "none",
         "name": "Job 7",
         "showlegend": true,
         "type": "scatter",
         "x": [
          "2023-10-15 0:03:02",
          "2023-10-15 0:03:47",
          "2023-10-15 0:03:47",
          "2023-10-15 0:03:02",
          "2023-10-15 0:03:02",
          "2023-10-15 0:03:51",
          "2023-10-15 0:05:09",
          "2023-10-15 0:05:09",
          "2023-10-15 0:03:51",
          "2023-10-15 0:03:51",
          "2023-10-15 0:06:42",
          "2023-10-15 0:08:16",
          "2023-10-15 0:08:16",
          "2023-10-15 0:06:42",
          "2023-10-15 0:06:42",
          "2023-10-15 0:01:27",
          "2023-10-15 0:02:16",
          "2023-10-15 0:02:16",
          "2023-10-15 0:01:27",
          "2023-10-15 0:01:27",
          "2023-10-15 0:05:43",
          "2023-10-15 0:05:49",
          "2023-10-15 0:05:49",
          "2023-10-15 0:05:43",
          "2023-10-15 0:05:43",
          "2023-10-15 0:05:09",
          "2023-10-15 0:05:43",
          "2023-10-15 0:05:43",
          "2023-10-15 0:05:09",
          "2023-10-15 0:05:09",
          "2023-10-15 0:09:24",
          "2023-10-15 0:10:23",
          "2023-10-15 0:10:23",
          "2023-10-15 0:09:24",
          "2023-10-15 0:09:24",
          "2023-10-15 0:11:32",
          "2023-10-15 0:11:48",
          "2023-10-15 0:11:48",
          "2023-10-15 0:11:32",
          "2023-10-15 0:11:32",
          "2023-10-15 0:00:06",
          "2023-10-15 0:00:52",
          "2023-10-15 0:00:52",
          "2023-10-15 0:00:06",
          "2023-10-15 0:00:06",
          "2023-10-15 0:10:23",
          "2023-10-15 0:11:32",
          "2023-10-15 0:11:32",
          "2023-10-15 0:10:23"
         ],
         "y": [
          8.8,
          8.8,
          9.2,
          9.2,
          null,
          7.8,
          7.8,
          8.2,
          8.2,
          null,
          6.8,
          6.8,
          7.2,
          7.2,
          null,
          5.8,
          5.8,
          6.2,
          6.2,
          null,
          4.8,
          4.8,
          5.2,
          5.2,
          null,
          3.8,
          3.8,
          4.2,
          4.2,
          null,
          2.8,
          2.8,
          3.2,
          3.2,
          null,
          1.8,
          1.8,
          2.2,
          2.2,
          null,
          0.8,
          0.8,
          1.2,
          1.2,
          null,
          -0.2,
          -0.2,
          0.2,
          0.2
         ]
        },
        {
         "fill": "toself",
         "fillcolor": "rgb(140, 86, 75)",
         "hoverinfo": "name",
         "legendgroup": "rgb(140, 86, 75)",
         "mode": "none",
         "name": "Job 5",
         "showlegend": true,
         "type": "scatter",
         "x": [
          "2023-10-15 0:11:07",
          "2023-10-15 0:11:28",
          "2023-10-15 0:11:28",
          "2023-10-15 0:11:07",
          "2023-10-15 0:11:07",
          "2023-10-15 0:06:43",
          "2023-10-15 0:07:59",
          "2023-10-15 0:07:59",
          "2023-10-15 0:06:43",
          "2023-10-15 0:06:43",
          "2023-10-15 0:11:28",
          "2023-10-15 0:12:58",
          "2023-10-15 0:12:58",
          "2023-10-15 0:11:28",
          "2023-10-15 0:11:28",
          "2023-10-15 0:09:29",
          "2023-10-15 0:11:07",
          "2023-10-15 0:11:07",
          "2023-10-15 0:09:29",
          "2023-10-15 0:09:29",
          "2023-10-15 0:09:28",
          "2023-10-15 0:09:29",
          "2023-10-15 0:09:29",
          "2023-10-15 0:09:28",
          "2023-10-15 0:09:28",
          "2023-10-15 0:05:45",
          "2023-10-15 0:06:43",
          "2023-10-15 0:06:43",
          "2023-10-15 0:05:45",
          "2023-10-15 0:05:45",
          "2023-10-15 0:05:16",
          "2023-10-15 0:05:45",
          "2023-10-15 0:05:45",
          "2023-10-15 0:05:16",
          "2023-10-15 0:05:16",
          "2023-10-15 0:03:20",
          "2023-10-15 0:04:15",
          "2023-10-15 0:04:15",
          "2023-10-15 0:03:20",
          "2023-10-15 0:03:20",
          "2023-10-15 0:08:08",
          "2023-10-15 0:08:44",
          "2023-10-15 0:08:44",
          "2023-10-15 0:08:08",
          "2023-10-15 0:08:08",
          "2023-10-15 0:01:33",
          "2023-10-15 0:02:27",
          "2023-10-15 0:02:27",
          "2023-10-15 0:01:33"
         ],
         "y": [
          8.8,
          8.8,
          9.2,
          9.2,
          null,
          7.8,
          7.8,
          8.2,
          8.2,
          null,
          6.8,
          6.8,
          7.2,
          7.2,
          null,
          5.8,
          5.8,
          6.2,
          6.2,
          null,
          4.8,
          4.8,
          5.2,
          5.2,
          null,
          3.8,
          3.8,
          4.2,
          4.2,
          null,
          2.8,
          2.8,
          3.2,
          3.2,
          null,
          1.8,
          1.8,
          2.2,
          2.2,
          null,
          0.8,
          0.8,
          1.2,
          1.2,
          null,
          -0.2,
          -0.2,
          0.2,
          0.2
         ]
        },
        {
         "fill": "toself",
         "fillcolor": "rgb(148, 103, 189)",
         "hoverinfo": "name",
         "legendgroup": "rgb(148, 103, 189)",
         "mode": "none",
         "name": "Job 4",
         "showlegend": true,
         "type": "scatter",
         "x": [
          "2023-10-15 0:01:52",
          "2023-10-15 0:03:02",
          "2023-10-15 0:03:02",
          "2023-10-15 0:01:52",
          "2023-10-15 0:01:52",
          "2023-10-15 0:08:35",
          "2023-10-15 0:08:39",
          "2023-10-15 0:08:39",
          "2023-10-15 0:08:35",
          "2023-10-15 0:08:35",
          "2023-10-15 0:08:39",
          "2023-10-15 0:09:51",
          "2023-10-15 0:09:51",
          "2023-10-15 0:08:39",
          "2023-10-15 0:08:39",
          "2023-10-15 0:13:13",
          "2023-10-15 0:14:43",
          "2023-10-15 0:14:43",
          "2023-10-15 0:13:13",
          "2023-10-15 0:13:13",
          "2023-10-15 0:10:17",
          "2023-10-15 0:11:49",
          "2023-10-15 0:11:49",
          "2023-10-15 0:10:17",
          "2023-10-15 0:10:17",
          "2023-10-15 0:11:49",
          "2023-10-15 0:13:13",
          "2023-10-15 0:13:13",
          "2023-10-15 0:11:49",
          "2023-10-15 0:11:49",
          "2023-10-15 0:05:45",
          "2023-10-15 0:06:50",
          "2023-10-15 0:06:50",
          "2023-10-15 0:05:45",
          "2023-10-15 0:05:45",
          "2023-10-15 0:01:22",
          "2023-10-15 0:01:52",
          "2023-10-15 0:01:52",
          "2023-10-15 0:01:22",
          "2023-10-15 0:01:22",
          "2023-10-15 0:09:51",
          "2023-10-15 0:10:17",
          "2023-10-15 0:10:17",
          "2023-10-15 0:09:51",
          "2023-10-15 0:09:51",
          "2023-10-15 0:07:17",
          "2023-10-15 0:08:35",
          "2023-10-15 0:08:35",
          "2023-10-15 0:07:17"
         ],
         "y": [
          8.8,
          8.8,
          9.2,
          9.2,
          null,
          7.8,
          7.8,
          8.2,
          8.2,
          null,
          6.8,
          6.8,
          7.2,
          7.2,
          null,
          5.8,
          5.8,
          6.2,
          6.2,
          null,
          4.8,
          4.8,
          5.2,
          5.2,
          null,
          3.8,
          3.8,
          4.2,
          4.2,
          null,
          2.8,
          2.8,
          3.2,
          3.2,
          null,
          1.8,
          1.8,
          2.2,
          2.2,
          null,
          0.8,
          0.8,
          1.2,
          1.2,
          null,
          -0.2,
          -0.2,
          0.2,
          0.2
         ]
        },
        {
         "fill": "toself",
         "fillcolor": "rgb(188, 189, 34)",
         "hoverinfo": "name",
         "legendgroup": "rgb(188, 189, 34)",
         "mode": "none",
         "name": "Job 8",
         "showlegend": true,
         "type": "scatter",
         "x": [
          "2023-10-15 0:05:46",
          "2023-10-15 0:06:24",
          "2023-10-15 0:06:24",
          "2023-10-15 0:05:46",
          "2023-10-15 0:05:46",
          "2023-10-15 0:10:13",
          "2023-10-15 0:11:27",
          "2023-10-15 0:11:27",
          "2023-10-15 0:10:13",
          "2023-10-15 0:10:13",
          "2023-10-15 0:00:44",
          "2023-10-15 0:00:55",
          "2023-10-15 0:00:55",
          "2023-10-15 0:00:44",
          "2023-10-15 0:00:44",
          "2023-10-15 0:03:41",
          "2023-10-15 0:03:50",
          "2023-10-15 0:03:50",
          "2023-10-15 0:03:41",
          "2023-10-15 0:03:41",
          "2023-10-15 0:11:49",
          "2023-10-15 0:12:14",
          "2023-10-15 0:12:14",
          "2023-10-15 0:11:49",
          "2023-10-15 0:11:49",
          "2023-10-15 0:06:43",
          "2023-10-15 0:08:04",
          "2023-10-15 0:08:04",
          "2023-10-15 0:06:43",
          "2023-10-15 0:06:43",
          "2023-10-15 0:08:04",
          "2023-10-15 0:09:24",
          "2023-10-15 0:09:24",
          "2023-10-15 0:08:04",
          "2023-10-15 0:08:04",
          "2023-10-15 0:04:15",
          "2023-10-15 0:05:26",
          "2023-10-15 0:05:26",
          "2023-10-15 0:04:15",
          "2023-10-15 0:04:15",
          "2023-10-15 0:12:20",
          "2023-10-15 0:13:51",
          "2023-10-15 0:13:51",
          "2023-10-15 0:12:20",
          "2023-10-15 0:12:20",
          "2023-10-15 0:09:26",
          "2023-10-15 0:10:13",
          "2023-10-15 0:10:13",
          "2023-10-15 0:09:26"
         ],
         "y": [
          8.8,
          8.8,
          9.2,
          9.2,
          null,
          7.8,
          7.8,
          8.2,
          8.2,
          null,
          6.8,
          6.8,
          7.2,
          7.2,
          null,
          5.8,
          5.8,
          6.2,
          6.2,
          null,
          4.8,
          4.8,
          5.2,
          5.2,
          null,
          3.8,
          3.8,
          4.2,
          4.2,
          null,
          2.8,
          2.8,
          3.2,
          3.2,
          null,
          1.8,
          1.8,
          2.2,
          2.2,
          null,
          0.8,
          0.8,
          1.2,
          1.2,
          null,
          -0.2,
          -0.2,
          0.2,
          0.2
         ]
        },
        {
         "fill": "toself",
         "fillcolor": "rgb(214, 39, 40)",
         "hoverinfo": "name",
         "legendgroup": "rgb(214, 39, 40)",
         "mode": "none",
         "name": "Job 3",
         "showlegend": true,
         "type": "scatter",
         "x": [
          "2023-10-15 0:06:24",
          "2023-10-15 0:07:59",
          "2023-10-15 0:07:59",
          "2023-10-15 0:06:24",
          "2023-10-15 0:06:24",
          "2023-10-15 0:12:20",
          "2023-10-15 0:12:25",
          "2023-10-15 0:12:25",
          "2023-10-15 0:12:20",
          "2023-10-15 0:12:20",
          "2023-10-15 0:10:09",
          "2023-10-15 0:11:25",
          "2023-10-15 0:11:25",
          "2023-10-15 0:10:09",
          "2023-10-15 0:10:09",
          "2023-10-15 0:00:00",
          "2023-10-15 0:01:27",
          "2023-10-15 0:01:27",
          "2023-10-15 0:00:00",
          "2023-10-15 0:00:00",
          "2023-10-15 0:05:49",
          "2023-10-15 0:06:17",
          "2023-10-15 0:06:17",
          "2023-10-15 0:05:49",
          "2023-10-15 0:05:49",
          "2023-10-15 0:08:04",
          "2023-10-15 0:09:14",
          "2023-10-15 0:09:14",
          "2023-10-15 0:08:04",
          "2023-10-15 0:08:04",
          "2023-10-15 0:12:51",
          "2023-10-15 0:13:03",
          "2023-10-15 0:13:03",
          "2023-10-15 0:12:51",
          "2023-10-15 0:12:51",
          "2023-10-15 0:12:25",
          "2023-10-15 0:12:29",
          "2023-10-15 0:12:29",
          "2023-10-15 0:12:25",
          "2023-10-15 0:12:25",
          "2023-10-15 0:11:25",
          "2023-10-15 0:12:20",
          "2023-10-15 0:12:20",
          "2023-10-15 0:11:25",
          "2023-10-15 0:11:25",
          "2023-10-15 0:09:14",
          "2023-10-15 0:09:26",
          "2023-10-15 0:09:26",
          "2023-10-15 0:09:14"
         ],
         "y": [
          8.8,
          8.8,
          9.2,
          9.2,
          null,
          7.8,
          7.8,
          8.2,
          8.2,
          null,
          6.8,
          6.8,
          7.2,
          7.2,
          null,
          5.8,
          5.8,
          6.2,
          6.2,
          null,
          4.8,
          4.8,
          5.2,
          5.2,
          null,
          3.8,
          3.8,
          4.2,
          4.2,
          null,
          2.8,
          2.8,
          3.2,
          3.2,
          null,
          1.8,
          1.8,
          2.2,
          2.2,
          null,
          0.8,
          0.8,
          1.2,
          1.2,
          null,
          -0.2,
          -0.2,
          0.2,
          0.2
         ]
        },
        {
         "fill": "toself",
         "fillcolor": "rgb(227, 119, 194)",
         "hoverinfo": "name",
         "legendgroup": "rgb(227, 119, 194)",
         "mode": "none",
         "name": "Job 6",
         "showlegend": true,
         "type": "scatter",
         "x": [
          "2023-10-15 0:04:08",
          "2023-10-15 0:05:46",
          "2023-10-15 0:05:46",
          "2023-10-15 0:04:08",
          "2023-10-15 0:04:08",
          "2023-10-15 0:11:27",
          "2023-10-15 0:12:16",
          "2023-10-15 0:12:16",
          "2023-10-15 0:11:27",
          "2023-10-15 0:11:27",
          "2023-10-15 0:00:00",
          "2023-10-15 0:00:44",
          "2023-10-15 0:00:44",
          "2023-10-15 0:00:00",
          "2023-10-15 0:00:00",
          "2023-10-15 0:05:46",
          "2023-10-15 0:06:30",
          "2023-10-15 0:06:30",
          "2023-10-15 0:05:46",
          "2023-10-15 0:05:46",
          "2023-10-15 0:02:33",
          "2023-10-15 0:03:01",
          "2023-10-15 0:03:01",
          "2023-10-15 0:02:33",
          "2023-10-15 0:02:33",
          "2023-10-15 0:00:44",
          "2023-10-15 0:00:57",
          "2023-10-15 0:00:57",
          "2023-10-15 0:00:44",
          "2023-10-15 0:00:44",
          "2023-10-15 0:01:51",
          "2023-10-15 0:02:11",
          "2023-10-15 0:02:11",
          "2023-10-15 0:01:51",
          "2023-10-15 0:01:51",
          "2023-10-15 0:07:05",
          "2023-10-15 0:07:19",
          "2023-10-15 0:07:19",
          "2023-10-15 0:07:05",
          "2023-10-15 0:07:05",
          "2023-10-15 0:10:17",
          "2023-10-15 0:10:29",
          "2023-10-15 0:10:29",
          "2023-10-15 0:10:17",
          "2023-10-15 0:10:17",
          "2023-10-15 0:00:57",
          "2023-10-15 0:01:33",
          "2023-10-15 0:01:33",
          "2023-10-15 0:00:57"
         ],
         "y": [
          8.8,
          8.8,
          9.2,
          9.2,
          null,
          7.8,
          7.8,
          8.2,
          8.2,
          null,
          6.8,
          6.8,
          7.2,
          7.2,
          null,
          5.8,
          5.8,
          6.2,
          6.2,
          null,
          4.8,
          4.8,
          5.2,
          5.2,
          null,
          3.8,
          3.8,
          4.2,
          4.2,
          null,
          2.8,
          2.8,
          3.2,
          3.2,
          null,
          1.8,
          1.8,
          2.2,
          2.2,
          null,
          0.8,
          0.8,
          1.2,
          1.2,
          null,
          -0.2,
          -0.2,
          0.2,
          0.2
         ]
        },
        {
         "fill": "toself",
         "fillcolor": "rgb(23, 190, 207)",
         "hoverinfo": "name",
         "legendgroup": "rgb(23, 190, 207)",
         "mode": "none",
         "name": "Job 9",
         "showlegend": true,
         "type": "scatter",
         "x": [
          "2023-10-15 0:09:28",
          "2023-10-15 0:09:58",
          "2023-10-15 0:09:58",
          "2023-10-15 0:09:28",
          "2023-10-15 0:09:28",
          "2023-10-15 0:08:39",
          "2023-10-15 0:09:17",
          "2023-10-15 0:09:17",
          "2023-10-15 0:08:39",
          "2023-10-15 0:08:39",
          "2023-10-15 0:03:41",
          "2023-10-15 0:04:11",
          "2023-10-15 0:04:11",
          "2023-10-15 0:03:41",
          "2023-10-15 0:03:41",
          "2023-10-15 0:02:16",
          "2023-10-15 0:03:41",
          "2023-10-15 0:03:41",
          "2023-10-15 0:02:16",
          "2023-10-15 0:02:16",
          "2023-10-15 0:09:17",
          "2023-10-15 0:09:28",
          "2023-10-15 0:09:28",
          "2023-10-15 0:09:17",
          "2023-10-15 0:09:17",
          "2023-10-15 0:13:13",
          "2023-10-15 0:14:02",
          "2023-10-15 0:14:02",
          "2023-10-15 0:13:13",
          "2023-10-15 0:13:13",
          "2023-10-15 0:12:38",
          "2023-10-15 0:12:51",
          "2023-10-15 0:12:51",
          "2023-10-15 0:12:38",
          "2023-10-15 0:12:38",
          "2023-10-15 0:05:26",
          "2023-10-15 0:07:05",
          "2023-10-15 0:07:05",
          "2023-10-15 0:05:26",
          "2023-10-15 0:05:26",
          "2023-10-15 0:00:00",
          "2023-10-15 0:00:06",
          "2023-10-15 0:00:06",
          "2023-10-15 0:00:00",
          "2023-10-15 0:00:00",
          "2023-10-15 0:00:06",
          "2023-10-15 0:00:42",
          "2023-10-15 0:00:42",
          "2023-10-15 0:00:06"
         ],
         "y": [
          8.8,
          8.8,
          9.2,
          9.2,
          null,
          7.8,
          7.8,
          8.2,
          8.2,
          null,
          6.8,
          6.8,
          7.2,
          7.2,
          null,
          5.8,
          5.8,
          6.2,
          6.2,
          null,
          4.8,
          4.8,
          5.2,
          5.2,
          null,
          3.8,
          3.8,
          4.2,
          4.2,
          null,
          2.8,
          2.8,
          3.2,
          3.2,
          null,
          1.8,
          1.8,
          2.2,
          2.2,
          null,
          0.8,
          0.8,
          1.2,
          1.2,
          null,
          -0.2,
          -0.2,
          0.2,
          0.2
         ]
        },
        {
         "fill": "toself",
         "fillcolor": "rgb(255, 127, 14)",
         "hoverinfo": "name",
         "legendgroup": "rgb(255, 127, 14)",
         "mode": "none",
         "name": "Job 10",
         "showlegend": true,
         "type": "scatter",
         "x": [
          "2023-10-15 0:00:00",
          "2023-10-15 0:00:59",
          "2023-10-15 0:00:59",
          "2023-10-15 0:00:00",
          "2023-10-15 0:00:00",
          "2023-10-15 0:02:29",
          "2023-10-15 0:03:51",
          "2023-10-15 0:03:51",
          "2023-10-15 0:02:29",
          "2023-10-15 0:02:29",
          "2023-10-15 0:05:16",
          "2023-10-15 0:06:04",
          "2023-10-15 0:06:04",
          "2023-10-15 0:05:16",
          "2023-10-15 0:05:16",
          "2023-10-15 0:07:17",
          "2023-10-15 0:08:43",
          "2023-10-15 0:08:43",
          "2023-10-15 0:07:17",
          "2023-10-15 0:07:17",
          "2023-10-15 0:00:59",
          "2023-10-15 0:02:29",
          "2023-10-15 0:02:29",
          "2023-10-15 0:00:59",
          "2023-10-15 0:00:59",
          "2023-10-15 0:04:08",
          "2023-10-15 0:04:55",
          "2023-10-15 0:04:55",
          "2023-10-15 0:04:08",
          "2023-10-15 0:04:08",
          "2023-10-15 0:04:55",
          "2023-10-15 0:05:16",
          "2023-10-15 0:05:16",
          "2023-10-15 0:04:55",
          "2023-10-15 0:04:55",
          "2023-10-15 0:08:43",
          "2023-10-15 0:09:18",
          "2023-10-15 0:09:18",
          "2023-10-15 0:08:43",
          "2023-10-15 0:08:43",
          "2023-10-15 0:06:04",
          "2023-10-15 0:06:50",
          "2023-10-15 0:06:50",
          "2023-10-15 0:06:04",
          "2023-10-15 0:06:04",
          "2023-10-15 0:06:50",
          "2023-10-15 0:07:17",
          "2023-10-15 0:07:17",
          "2023-10-15 0:06:50"
         ],
         "y": [
          8.8,
          8.8,
          9.2,
          9.2,
          null,
          7.8,
          7.8,
          8.2,
          8.2,
          null,
          6.8,
          6.8,
          7.2,
          7.2,
          null,
          5.8,
          5.8,
          6.2,
          6.2,
          null,
          4.8,
          4.8,
          5.2,
          5.2,
          null,
          3.8,
          3.8,
          4.2,
          4.2,
          null,
          2.8,
          2.8,
          3.2,
          3.2,
          null,
          1.8,
          1.8,
          2.2,
          2.2,
          null,
          0.8,
          0.8,
          1.2,
          1.2,
          null,
          -0.2,
          -0.2,
          0.2,
          0.2
         ]
        },
        {
         "fill": "toself",
         "fillcolor": "rgb(31, 119, 180)",
         "hoverinfo": "name",
         "legendgroup": "rgb(31, 119, 180)",
         "mode": "none",
         "name": "Job 1",
         "showlegend": true,
         "type": "scatter",
         "x": [
          "2023-10-15 0:01:22",
          "2023-10-15 0:01:36",
          "2023-10-15 0:01:36",
          "2023-10-15 0:01:22",
          "2023-10-15 0:01:22",
          "2023-10-15 0:09:17",
          "2023-10-15 0:09:46",
          "2023-10-15 0:09:46",
          "2023-10-15 0:09:17",
          "2023-10-15 0:09:17",
          "2023-10-15 0:09:51",
          "2023-10-15 0:10:09",
          "2023-10-15 0:10:09",
          "2023-10-15 0:09:51",
          "2023-10-15 0:09:51",
          "2023-10-15 0:11:29",
          "2023-10-15 0:13:04",
          "2023-10-15 0:13:04",
          "2023-10-15 0:11:29",
          "2023-10-15 0:11:29",
          "2023-10-15 0:02:29",
          "2023-10-15 0:02:33",
          "2023-10-15 0:02:33",
          "2023-10-15 0:02:29",
          "2023-10-15 0:02:29",
          "2023-10-15 0:02:33",
          "2023-10-15 0:04:08",
          "2023-10-15 0:04:08",
          "2023-10-15 0:02:33",
          "2023-10-15 0:02:33",
          "2023-10-15 0:01:36",
          "2023-10-15 0:01:51",
          "2023-10-15 0:01:51",
          "2023-10-15 0:01:36",
          "2023-10-15 0:01:36",
          "2023-10-15 0:00:00",
          "2023-10-15 0:01:22",
          "2023-10-15 0:01:22",
          "2023-10-15 0:00:00",
          "2023-10-15 0:00:00",
          "2023-10-15 0:04:08",
          "2023-10-15 0:04:44",
          "2023-10-15 0:04:44",
          "2023-10-15 0:04:08",
          "2023-10-15 0:04:08",
          "2023-10-15 0:04:44",
          "2023-10-15 0:05:16",
          "2023-10-15 0:05:16",
          "2023-10-15 0:04:44"
         ],
         "y": [
          8.8,
          8.8,
          9.2,
          9.2,
          null,
          7.8,
          7.8,
          8.2,
          8.2,
          null,
          6.8,
          6.8,
          7.2,
          7.2,
          null,
          5.8,
          5.8,
          6.2,
          6.2,
          null,
          4.8,
          4.8,
          5.2,
          5.2,
          null,
          3.8,
          3.8,
          4.2,
          4.2,
          null,
          2.8,
          2.8,
          3.2,
          3.2,
          null,
          1.8,
          1.8,
          2.2,
          2.2,
          null,
          0.8,
          0.8,
          1.2,
          1.2,
          null,
          -0.2,
          -0.2,
          0.2,
          0.2
         ]
        },
        {
         "fill": "toself",
         "fillcolor": "rgb(44, 160, 44)",
         "hoverinfo": "name",
         "legendgroup": "rgb(44, 160, 44)",
         "mode": "none",
         "name": "Job 2",
         "showlegend": true,
         "type": "scatter",
         "x": [
          "2023-10-15 0:03:47",
          "2023-10-15 0:04:08",
          "2023-10-15 0:04:08",
          "2023-10-15 0:03:47",
          "2023-10-15 0:03:47",
          "2023-10-15 0:05:09",
          "2023-10-15 0:06:32",
          "2023-10-15 0:06:32",
          "2023-10-15 0:05:09",
          "2023-10-15 0:05:09",
          "2023-10-15 0:06:32",
          "2023-10-15 0:06:42",
          "2023-10-15 0:06:42",
          "2023-10-15 0:06:32",
          "2023-10-15 0:06:32",
          "2023-10-15 0:11:07",
          "2023-10-15 0:11:29",
          "2023-10-15 0:11:29",
          "2023-10-15 0:11:07",
          "2023-10-15 0:11:07",
          "2023-10-15 0:12:38",
          "2023-10-15 0:14:12",
          "2023-10-15 0:14:12",
          "2023-10-15 0:12:38",
          "2023-10-15 0:12:38",
          "2023-10-15 0:09:14",
          "2023-10-15 0:10:36",
          "2023-10-15 0:10:36",
          "2023-10-15 0:09:14",
          "2023-10-15 0:09:14",
          "2023-10-15 0:11:29",
          "2023-10-15 0:12:38",
          "2023-10-15 0:12:38",
          "2023-10-15 0:11:29",
          "2023-10-15 0:11:29",
          "2023-10-15 0:01:52",
          "2023-10-15 0:03:20",
          "2023-10-15 0:03:20",
          "2023-10-15 0:01:52",
          "2023-10-15 0:01:52",
          "2023-10-15 0:06:50",
          "2023-10-15 0:08:08",
          "2023-10-15 0:08:08",
          "2023-10-15 0:06:50",
          "2023-10-15 0:06:50",
          "2023-10-15 0:14:12",
          "2023-10-15 0:14:44",
          "2023-10-15 0:14:44",
          "2023-10-15 0:14:12"
         ],
         "y": [
          8.8,
          8.8,
          9.2,
          9.2,
          null,
          7.8,
          7.8,
          8.2,
          8.2,
          null,
          6.8,
          6.8,
          7.2,
          7.2,
          null,
          5.8,
          5.8,
          6.2,
          6.2,
          null,
          4.8,
          4.8,
          5.2,
          5.2,
          null,
          3.8,
          3.8,
          4.2,
          4.2,
          null,
          2.8,
          2.8,
          3.2,
          3.2,
          null,
          1.8,
          1.8,
          2.2,
          2.2,
          null,
          0.8,
          0.8,
          1.2,
          1.2,
          null,
          -0.2,
          -0.2,
          0.2,
          0.2
         ]
        },
        {
         "legendgroup": "rgb(127, 127, 127)",
         "marker": {
          "color": "rgb(127, 127, 127)",
          "opacity": 0,
          "size": 1
         },
         "mode": "markers",
         "name": "",
         "showlegend": false,
         "text": [
          null,
          null,
          null,
          null,
          null,
          null,
          null,
          null,
          null,
          null,
          null,
          null,
          null,
          null,
          null,
          null,
          null,
          null,
          null,
          null
         ],
         "type": "scatter",
         "x": [
          "2023-10-15 0:03:02",
          "2023-10-15 0:03:47",
          "2023-10-15 0:03:51",
          "2023-10-15 0:05:09",
          "2023-10-15 0:06:42",
          "2023-10-15 0:08:16",
          "2023-10-15 0:01:27",
          "2023-10-15 0:02:16",
          "2023-10-15 0:05:43",
          "2023-10-15 0:05:49",
          "2023-10-15 0:05:09",
          "2023-10-15 0:05:43",
          "2023-10-15 0:09:24",
          "2023-10-15 0:10:23",
          "2023-10-15 0:11:32",
          "2023-10-15 0:11:48",
          "2023-10-15 0:00:06",
          "2023-10-15 0:00:52",
          "2023-10-15 0:10:23",
          "2023-10-15 0:11:32"
         ],
         "y": [
          9,
          9,
          8,
          8,
          7,
          7,
          6,
          6,
          5,
          5,
          4,
          4,
          3,
          3,
          2,
          2,
          1,
          1,
          0,
          0
         ]
        },
        {
         "legendgroup": "rgb(140, 86, 75)",
         "marker": {
          "color": "rgb(140, 86, 75)",
          "opacity": 0,
          "size": 1
         },
         "mode": "markers",
         "name": "",
         "showlegend": false,
         "text": [
          null,
          null,
          null,
          null,
          null,
          null,
          null,
          null,
          null,
          null,
          null,
          null,
          null,
          null,
          null,
          null,
          null,
          null,
          null,
          null
         ],
         "type": "scatter",
         "x": [
          "2023-10-15 0:11:07",
          "2023-10-15 0:11:28",
          "2023-10-15 0:06:43",
          "2023-10-15 0:07:59",
          "2023-10-15 0:11:28",
          "2023-10-15 0:12:58",
          "2023-10-15 0:09:29",
          "2023-10-15 0:11:07",
          "2023-10-15 0:09:28",
          "2023-10-15 0:09:29",
          "2023-10-15 0:05:45",
          "2023-10-15 0:06:43",
          "2023-10-15 0:05:16",
          "2023-10-15 0:05:45",
          "2023-10-15 0:03:20",
          "2023-10-15 0:04:15",
          "2023-10-15 0:08:08",
          "2023-10-15 0:08:44",
          "2023-10-15 0:01:33",
          "2023-10-15 0:02:27"
         ],
         "y": [
          9,
          9,
          8,
          8,
          7,
          7,
          6,
          6,
          5,
          5,
          4,
          4,
          3,
          3,
          2,
          2,
          1,
          1,
          0,
          0
         ]
        },
        {
         "legendgroup": "rgb(148, 103, 189)",
         "marker": {
          "color": "rgb(148, 103, 189)",
          "opacity": 0,
          "size": 1
         },
         "mode": "markers",
         "name": "",
         "showlegend": false,
         "text": [
          null,
          null,
          null,
          null,
          null,
          null,
          null,
          null,
          null,
          null,
          null,
          null,
          null,
          null,
          null,
          null,
          null,
          null,
          null,
          null
         ],
         "type": "scatter",
         "x": [
          "2023-10-15 0:01:52",
          "2023-10-15 0:03:02",
          "2023-10-15 0:08:35",
          "2023-10-15 0:08:39",
          "2023-10-15 0:08:39",
          "2023-10-15 0:09:51",
          "2023-10-15 0:13:13",
          "2023-10-15 0:14:43",
          "2023-10-15 0:10:17",
          "2023-10-15 0:11:49",
          "2023-10-15 0:11:49",
          "2023-10-15 0:13:13",
          "2023-10-15 0:05:45",
          "2023-10-15 0:06:50",
          "2023-10-15 0:01:22",
          "2023-10-15 0:01:52",
          "2023-10-15 0:09:51",
          "2023-10-15 0:10:17",
          "2023-10-15 0:07:17",
          "2023-10-15 0:08:35"
         ],
         "y": [
          9,
          9,
          8,
          8,
          7,
          7,
          6,
          6,
          5,
          5,
          4,
          4,
          3,
          3,
          2,
          2,
          1,
          1,
          0,
          0
         ]
        },
        {
         "legendgroup": "rgb(188, 189, 34)",
         "marker": {
          "color": "rgb(188, 189, 34)",
          "opacity": 0,
          "size": 1
         },
         "mode": "markers",
         "name": "",
         "showlegend": false,
         "text": [
          null,
          null,
          null,
          null,
          null,
          null,
          null,
          null,
          null,
          null,
          null,
          null,
          null,
          null,
          null,
          null,
          null,
          null,
          null,
          null
         ],
         "type": "scatter",
         "x": [
          "2023-10-15 0:05:46",
          "2023-10-15 0:06:24",
          "2023-10-15 0:10:13",
          "2023-10-15 0:11:27",
          "2023-10-15 0:00:44",
          "2023-10-15 0:00:55",
          "2023-10-15 0:03:41",
          "2023-10-15 0:03:50",
          "2023-10-15 0:11:49",
          "2023-10-15 0:12:14",
          "2023-10-15 0:06:43",
          "2023-10-15 0:08:04",
          "2023-10-15 0:08:04",
          "2023-10-15 0:09:24",
          "2023-10-15 0:04:15",
          "2023-10-15 0:05:26",
          "2023-10-15 0:12:20",
          "2023-10-15 0:13:51",
          "2023-10-15 0:09:26",
          "2023-10-15 0:10:13"
         ],
         "y": [
          9,
          9,
          8,
          8,
          7,
          7,
          6,
          6,
          5,
          5,
          4,
          4,
          3,
          3,
          2,
          2,
          1,
          1,
          0,
          0
         ]
        },
        {
         "legendgroup": "rgb(214, 39, 40)",
         "marker": {
          "color": "rgb(214, 39, 40)",
          "opacity": 0,
          "size": 1
         },
         "mode": "markers",
         "name": "",
         "showlegend": false,
         "text": [
          null,
          null,
          null,
          null,
          null,
          null,
          null,
          null,
          null,
          null,
          null,
          null,
          null,
          null,
          null,
          null,
          null,
          null,
          null,
          null
         ],
         "type": "scatter",
         "x": [
          "2023-10-15 0:06:24",
          "2023-10-15 0:07:59",
          "2023-10-15 0:12:20",
          "2023-10-15 0:12:25",
          "2023-10-15 0:10:09",
          "2023-10-15 0:11:25",
          "2023-10-15 0:00:00",
          "2023-10-15 0:01:27",
          "2023-10-15 0:05:49",
          "2023-10-15 0:06:17",
          "2023-10-15 0:08:04",
          "2023-10-15 0:09:14",
          "2023-10-15 0:12:51",
          "2023-10-15 0:13:03",
          "2023-10-15 0:12:25",
          "2023-10-15 0:12:29",
          "2023-10-15 0:11:25",
          "2023-10-15 0:12:20",
          "2023-10-15 0:09:14",
          "2023-10-15 0:09:26"
         ],
         "y": [
          9,
          9,
          8,
          8,
          7,
          7,
          6,
          6,
          5,
          5,
          4,
          4,
          3,
          3,
          2,
          2,
          1,
          1,
          0,
          0
         ]
        },
        {
         "legendgroup": "rgb(227, 119, 194)",
         "marker": {
          "color": "rgb(227, 119, 194)",
          "opacity": 0,
          "size": 1
         },
         "mode": "markers",
         "name": "",
         "showlegend": false,
         "text": [
          null,
          null,
          null,
          null,
          null,
          null,
          null,
          null,
          null,
          null,
          null,
          null,
          null,
          null,
          null,
          null,
          null,
          null,
          null,
          null
         ],
         "type": "scatter",
         "x": [
          "2023-10-15 0:04:08",
          "2023-10-15 0:05:46",
          "2023-10-15 0:11:27",
          "2023-10-15 0:12:16",
          "2023-10-15 0:00:00",
          "2023-10-15 0:00:44",
          "2023-10-15 0:05:46",
          "2023-10-15 0:06:30",
          "2023-10-15 0:02:33",
          "2023-10-15 0:03:01",
          "2023-10-15 0:00:44",
          "2023-10-15 0:00:57",
          "2023-10-15 0:01:51",
          "2023-10-15 0:02:11",
          "2023-10-15 0:07:05",
          "2023-10-15 0:07:19",
          "2023-10-15 0:10:17",
          "2023-10-15 0:10:29",
          "2023-10-15 0:00:57",
          "2023-10-15 0:01:33"
         ],
         "y": [
          9,
          9,
          8,
          8,
          7,
          7,
          6,
          6,
          5,
          5,
          4,
          4,
          3,
          3,
          2,
          2,
          1,
          1,
          0,
          0
         ]
        },
        {
         "legendgroup": "rgb(23, 190, 207)",
         "marker": {
          "color": "rgb(23, 190, 207)",
          "opacity": 0,
          "size": 1
         },
         "mode": "markers",
         "name": "",
         "showlegend": false,
         "text": [
          null,
          null,
          null,
          null,
          null,
          null,
          null,
          null,
          null,
          null,
          null,
          null,
          null,
          null,
          null,
          null,
          null,
          null,
          null,
          null
         ],
         "type": "scatter",
         "x": [
          "2023-10-15 0:09:28",
          "2023-10-15 0:09:58",
          "2023-10-15 0:08:39",
          "2023-10-15 0:09:17",
          "2023-10-15 0:03:41",
          "2023-10-15 0:04:11",
          "2023-10-15 0:02:16",
          "2023-10-15 0:03:41",
          "2023-10-15 0:09:17",
          "2023-10-15 0:09:28",
          "2023-10-15 0:13:13",
          "2023-10-15 0:14:02",
          "2023-10-15 0:12:38",
          "2023-10-15 0:12:51",
          "2023-10-15 0:05:26",
          "2023-10-15 0:07:05",
          "2023-10-15 0:00:00",
          "2023-10-15 0:00:06",
          "2023-10-15 0:00:06",
          "2023-10-15 0:00:42"
         ],
         "y": [
          9,
          9,
          8,
          8,
          7,
          7,
          6,
          6,
          5,
          5,
          4,
          4,
          3,
          3,
          2,
          2,
          1,
          1,
          0,
          0
         ]
        },
        {
         "legendgroup": "rgb(255, 127, 14)",
         "marker": {
          "color": "rgb(255, 127, 14)",
          "opacity": 0,
          "size": 1
         },
         "mode": "markers",
         "name": "",
         "showlegend": false,
         "text": [
          null,
          null,
          null,
          null,
          null,
          null,
          null,
          null,
          null,
          null,
          null,
          null,
          null,
          null,
          null,
          null,
          null,
          null,
          null,
          null
         ],
         "type": "scatter",
         "x": [
          "2023-10-15 0:00:00",
          "2023-10-15 0:00:59",
          "2023-10-15 0:02:29",
          "2023-10-15 0:03:51",
          "2023-10-15 0:05:16",
          "2023-10-15 0:06:04",
          "2023-10-15 0:07:17",
          "2023-10-15 0:08:43",
          "2023-10-15 0:00:59",
          "2023-10-15 0:02:29",
          "2023-10-15 0:04:08",
          "2023-10-15 0:04:55",
          "2023-10-15 0:04:55",
          "2023-10-15 0:05:16",
          "2023-10-15 0:08:43",
          "2023-10-15 0:09:18",
          "2023-10-15 0:06:04",
          "2023-10-15 0:06:50",
          "2023-10-15 0:06:50",
          "2023-10-15 0:07:17"
         ],
         "y": [
          9,
          9,
          8,
          8,
          7,
          7,
          6,
          6,
          5,
          5,
          4,
          4,
          3,
          3,
          2,
          2,
          1,
          1,
          0,
          0
         ]
        },
        {
         "legendgroup": "rgb(31, 119, 180)",
         "marker": {
          "color": "rgb(31, 119, 180)",
          "opacity": 0,
          "size": 1
         },
         "mode": "markers",
         "name": "",
         "showlegend": false,
         "text": [
          null,
          null,
          null,
          null,
          null,
          null,
          null,
          null,
          null,
          null,
          null,
          null,
          null,
          null,
          null,
          null,
          null,
          null,
          null,
          null
         ],
         "type": "scatter",
         "x": [
          "2023-10-15 0:01:22",
          "2023-10-15 0:01:36",
          "2023-10-15 0:09:17",
          "2023-10-15 0:09:46",
          "2023-10-15 0:09:51",
          "2023-10-15 0:10:09",
          "2023-10-15 0:11:29",
          "2023-10-15 0:13:04",
          "2023-10-15 0:02:29",
          "2023-10-15 0:02:33",
          "2023-10-15 0:02:33",
          "2023-10-15 0:04:08",
          "2023-10-15 0:01:36",
          "2023-10-15 0:01:51",
          "2023-10-15 0:00:00",
          "2023-10-15 0:01:22",
          "2023-10-15 0:04:08",
          "2023-10-15 0:04:44",
          "2023-10-15 0:04:44",
          "2023-10-15 0:05:16"
         ],
         "y": [
          9,
          9,
          8,
          8,
          7,
          7,
          6,
          6,
          5,
          5,
          4,
          4,
          3,
          3,
          2,
          2,
          1,
          1,
          0,
          0
         ]
        },
        {
         "legendgroup": "rgb(44, 160, 44)",
         "marker": {
          "color": "rgb(44, 160, 44)",
          "opacity": 0,
          "size": 1
         },
         "mode": "markers",
         "name": "",
         "showlegend": false,
         "text": [
          null,
          null,
          null,
          null,
          null,
          null,
          null,
          null,
          null,
          null,
          null,
          null,
          null,
          null,
          null,
          null,
          null,
          null,
          null,
          null
         ],
         "type": "scatter",
         "x": [
          "2023-10-15 0:03:47",
          "2023-10-15 0:04:08",
          "2023-10-15 0:05:09",
          "2023-10-15 0:06:32",
          "2023-10-15 0:06:32",
          "2023-10-15 0:06:42",
          "2023-10-15 0:11:07",
          "2023-10-15 0:11:29",
          "2023-10-15 0:12:38",
          "2023-10-15 0:14:12",
          "2023-10-15 0:09:14",
          "2023-10-15 0:10:36",
          "2023-10-15 0:11:29",
          "2023-10-15 0:12:38",
          "2023-10-15 0:01:52",
          "2023-10-15 0:03:20",
          "2023-10-15 0:06:50",
          "2023-10-15 0:08:08",
          "2023-10-15 0:14:12",
          "2023-10-15 0:14:44"
         ],
         "y": [
          9,
          9,
          8,
          8,
          7,
          7,
          6,
          6,
          5,
          5,
          4,
          4,
          3,
          3,
          2,
          2,
          1,
          1,
          0,
          0
         ]
        }
       ],
       "layout": {
        "height": 600,
        "hovermode": "closest",
        "showlegend": true,
        "template": {
         "data": {
          "bar": [
           {
            "error_x": {
             "color": "#2a3f5f"
            },
            "error_y": {
             "color": "#2a3f5f"
            },
            "marker": {
             "line": {
              "color": "#E5ECF6",
              "width": 0.5
             },
             "pattern": {
              "fillmode": "overlay",
              "size": 10,
              "solidity": 0.2
             }
            },
            "type": "bar"
           }
          ],
          "barpolar": [
           {
            "marker": {
             "line": {
              "color": "#E5ECF6",
              "width": 0.5
             },
             "pattern": {
              "fillmode": "overlay",
              "size": 10,
              "solidity": 0.2
             }
            },
            "type": "barpolar"
           }
          ],
          "carpet": [
           {
            "aaxis": {
             "endlinecolor": "#2a3f5f",
             "gridcolor": "white",
             "linecolor": "white",
             "minorgridcolor": "white",
             "startlinecolor": "#2a3f5f"
            },
            "baxis": {
             "endlinecolor": "#2a3f5f",
             "gridcolor": "white",
             "linecolor": "white",
             "minorgridcolor": "white",
             "startlinecolor": "#2a3f5f"
            },
            "type": "carpet"
           }
          ],
          "choropleth": [
           {
            "colorbar": {
             "outlinewidth": 0,
             "ticks": ""
            },
            "type": "choropleth"
           }
          ],
          "contour": [
           {
            "colorbar": {
             "outlinewidth": 0,
             "ticks": ""
            },
            "colorscale": [
             [
              0,
              "#0d0887"
             ],
             [
              0.1111111111111111,
              "#46039f"
             ],
             [
              0.2222222222222222,
              "#7201a8"
             ],
             [
              0.3333333333333333,
              "#9c179e"
             ],
             [
              0.4444444444444444,
              "#bd3786"
             ],
             [
              0.5555555555555556,
              "#d8576b"
             ],
             [
              0.6666666666666666,
              "#ed7953"
             ],
             [
              0.7777777777777778,
              "#fb9f3a"
             ],
             [
              0.8888888888888888,
              "#fdca26"
             ],
             [
              1,
              "#f0f921"
             ]
            ],
            "type": "contour"
           }
          ],
          "contourcarpet": [
           {
            "colorbar": {
             "outlinewidth": 0,
             "ticks": ""
            },
            "type": "contourcarpet"
           }
          ],
          "heatmap": [
           {
            "colorbar": {
             "outlinewidth": 0,
             "ticks": ""
            },
            "colorscale": [
             [
              0,
              "#0d0887"
             ],
             [
              0.1111111111111111,
              "#46039f"
             ],
             [
              0.2222222222222222,
              "#7201a8"
             ],
             [
              0.3333333333333333,
              "#9c179e"
             ],
             [
              0.4444444444444444,
              "#bd3786"
             ],
             [
              0.5555555555555556,
              "#d8576b"
             ],
             [
              0.6666666666666666,
              "#ed7953"
             ],
             [
              0.7777777777777778,
              "#fb9f3a"
             ],
             [
              0.8888888888888888,
              "#fdca26"
             ],
             [
              1,
              "#f0f921"
             ]
            ],
            "type": "heatmap"
           }
          ],
          "heatmapgl": [
           {
            "colorbar": {
             "outlinewidth": 0,
             "ticks": ""
            },
            "colorscale": [
             [
              0,
              "#0d0887"
             ],
             [
              0.1111111111111111,
              "#46039f"
             ],
             [
              0.2222222222222222,
              "#7201a8"
             ],
             [
              0.3333333333333333,
              "#9c179e"
             ],
             [
              0.4444444444444444,
              "#bd3786"
             ],
             [
              0.5555555555555556,
              "#d8576b"
             ],
             [
              0.6666666666666666,
              "#ed7953"
             ],
             [
              0.7777777777777778,
              "#fb9f3a"
             ],
             [
              0.8888888888888888,
              "#fdca26"
             ],
             [
              1,
              "#f0f921"
             ]
            ],
            "type": "heatmapgl"
           }
          ],
          "histogram": [
           {
            "marker": {
             "pattern": {
              "fillmode": "overlay",
              "size": 10,
              "solidity": 0.2
             }
            },
            "type": "histogram"
           }
          ],
          "histogram2d": [
           {
            "colorbar": {
             "outlinewidth": 0,
             "ticks": ""
            },
            "colorscale": [
             [
              0,
              "#0d0887"
             ],
             [
              0.1111111111111111,
              "#46039f"
             ],
             [
              0.2222222222222222,
              "#7201a8"
             ],
             [
              0.3333333333333333,
              "#9c179e"
             ],
             [
              0.4444444444444444,
              "#bd3786"
             ],
             [
              0.5555555555555556,
              "#d8576b"
             ],
             [
              0.6666666666666666,
              "#ed7953"
             ],
             [
              0.7777777777777778,
              "#fb9f3a"
             ],
             [
              0.8888888888888888,
              "#fdca26"
             ],
             [
              1,
              "#f0f921"
             ]
            ],
            "type": "histogram2d"
           }
          ],
          "histogram2dcontour": [
           {
            "colorbar": {
             "outlinewidth": 0,
             "ticks": ""
            },
            "colorscale": [
             [
              0,
              "#0d0887"
             ],
             [
              0.1111111111111111,
              "#46039f"
             ],
             [
              0.2222222222222222,
              "#7201a8"
             ],
             [
              0.3333333333333333,
              "#9c179e"
             ],
             [
              0.4444444444444444,
              "#bd3786"
             ],
             [
              0.5555555555555556,
              "#d8576b"
             ],
             [
              0.6666666666666666,
              "#ed7953"
             ],
             [
              0.7777777777777778,
              "#fb9f3a"
             ],
             [
              0.8888888888888888,
              "#fdca26"
             ],
             [
              1,
              "#f0f921"
             ]
            ],
            "type": "histogram2dcontour"
           }
          ],
          "mesh3d": [
           {
            "colorbar": {
             "outlinewidth": 0,
             "ticks": ""
            },
            "type": "mesh3d"
           }
          ],
          "parcoords": [
           {
            "line": {
             "colorbar": {
              "outlinewidth": 0,
              "ticks": ""
             }
            },
            "type": "parcoords"
           }
          ],
          "pie": [
           {
            "automargin": true,
            "type": "pie"
           }
          ],
          "scatter": [
           {
            "fillpattern": {
             "fillmode": "overlay",
             "size": 10,
             "solidity": 0.2
            },
            "type": "scatter"
           }
          ],
          "scatter3d": [
           {
            "line": {
             "colorbar": {
              "outlinewidth": 0,
              "ticks": ""
             }
            },
            "marker": {
             "colorbar": {
              "outlinewidth": 0,
              "ticks": ""
             }
            },
            "type": "scatter3d"
           }
          ],
          "scattercarpet": [
           {
            "marker": {
             "colorbar": {
              "outlinewidth": 0,
              "ticks": ""
             }
            },
            "type": "scattercarpet"
           }
          ],
          "scattergeo": [
           {
            "marker": {
             "colorbar": {
              "outlinewidth": 0,
              "ticks": ""
             }
            },
            "type": "scattergeo"
           }
          ],
          "scattergl": [
           {
            "marker": {
             "colorbar": {
              "outlinewidth": 0,
              "ticks": ""
             }
            },
            "type": "scattergl"
           }
          ],
          "scattermapbox": [
           {
            "marker": {
             "colorbar": {
              "outlinewidth": 0,
              "ticks": ""
             }
            },
            "type": "scattermapbox"
           }
          ],
          "scatterpolar": [
           {
            "marker": {
             "colorbar": {
              "outlinewidth": 0,
              "ticks": ""
             }
            },
            "type": "scatterpolar"
           }
          ],
          "scatterpolargl": [
           {
            "marker": {
             "colorbar": {
              "outlinewidth": 0,
              "ticks": ""
             }
            },
            "type": "scatterpolargl"
           }
          ],
          "scatterternary": [
           {
            "marker": {
             "colorbar": {
              "outlinewidth": 0,
              "ticks": ""
             }
            },
            "type": "scatterternary"
           }
          ],
          "surface": [
           {
            "colorbar": {
             "outlinewidth": 0,
             "ticks": ""
            },
            "colorscale": [
             [
              0,
              "#0d0887"
             ],
             [
              0.1111111111111111,
              "#46039f"
             ],
             [
              0.2222222222222222,
              "#7201a8"
             ],
             [
              0.3333333333333333,
              "#9c179e"
             ],
             [
              0.4444444444444444,
              "#bd3786"
             ],
             [
              0.5555555555555556,
              "#d8576b"
             ],
             [
              0.6666666666666666,
              "#ed7953"
             ],
             [
              0.7777777777777778,
              "#fb9f3a"
             ],
             [
              0.8888888888888888,
              "#fdca26"
             ],
             [
              1,
              "#f0f921"
             ]
            ],
            "type": "surface"
           }
          ],
          "table": [
           {
            "cells": {
             "fill": {
              "color": "#EBF0F8"
             },
             "line": {
              "color": "white"
             }
            },
            "header": {
             "fill": {
              "color": "#C8D4E3"
             },
             "line": {
              "color": "white"
             }
            },
            "type": "table"
           }
          ]
         },
         "layout": {
          "annotationdefaults": {
           "arrowcolor": "#2a3f5f",
           "arrowhead": 0,
           "arrowwidth": 1
          },
          "autotypenumbers": "strict",
          "coloraxis": {
           "colorbar": {
            "outlinewidth": 0,
            "ticks": ""
           }
          },
          "colorscale": {
           "diverging": [
            [
             0,
             "#8e0152"
            ],
            [
             0.1,
             "#c51b7d"
            ],
            [
             0.2,
             "#de77ae"
            ],
            [
             0.3,
             "#f1b6da"
            ],
            [
             0.4,
             "#fde0ef"
            ],
            [
             0.5,
             "#f7f7f7"
            ],
            [
             0.6,
             "#e6f5d0"
            ],
            [
             0.7,
             "#b8e186"
            ],
            [
             0.8,
             "#7fbc41"
            ],
            [
             0.9,
             "#4d9221"
            ],
            [
             1,
             "#276419"
            ]
           ],
           "sequential": [
            [
             0,
             "#0d0887"
            ],
            [
             0.1111111111111111,
             "#46039f"
            ],
            [
             0.2222222222222222,
             "#7201a8"
            ],
            [
             0.3333333333333333,
             "#9c179e"
            ],
            [
             0.4444444444444444,
             "#bd3786"
            ],
            [
             0.5555555555555556,
             "#d8576b"
            ],
            [
             0.6666666666666666,
             "#ed7953"
            ],
            [
             0.7777777777777778,
             "#fb9f3a"
            ],
            [
             0.8888888888888888,
             "#fdca26"
            ],
            [
             1,
             "#f0f921"
            ]
           ],
           "sequentialminus": [
            [
             0,
             "#0d0887"
            ],
            [
             0.1111111111111111,
             "#46039f"
            ],
            [
             0.2222222222222222,
             "#7201a8"
            ],
            [
             0.3333333333333333,
             "#9c179e"
            ],
            [
             0.4444444444444444,
             "#bd3786"
            ],
            [
             0.5555555555555556,
             "#d8576b"
            ],
            [
             0.6666666666666666,
             "#ed7953"
            ],
            [
             0.7777777777777778,
             "#fb9f3a"
            ],
            [
             0.8888888888888888,
             "#fdca26"
            ],
            [
             1,
             "#f0f921"
            ]
           ]
          },
          "colorway": [
           "#636efa",
           "#EF553B",
           "#00cc96",
           "#ab63fa",
           "#FFA15A",
           "#19d3f3",
           "#FF6692",
           "#B6E880",
           "#FF97FF",
           "#FECB52"
          ],
          "font": {
           "color": "#2a3f5f"
          },
          "geo": {
           "bgcolor": "white",
           "lakecolor": "white",
           "landcolor": "#E5ECF6",
           "showlakes": true,
           "showland": true,
           "subunitcolor": "white"
          },
          "hoverlabel": {
           "align": "left"
          },
          "hovermode": "closest",
          "mapbox": {
           "style": "light"
          },
          "paper_bgcolor": "white",
          "plot_bgcolor": "#E5ECF6",
          "polar": {
           "angularaxis": {
            "gridcolor": "white",
            "linecolor": "white",
            "ticks": ""
           },
           "bgcolor": "#E5ECF6",
           "radialaxis": {
            "gridcolor": "white",
            "linecolor": "white",
            "ticks": ""
           }
          },
          "scene": {
           "xaxis": {
            "backgroundcolor": "#E5ECF6",
            "gridcolor": "white",
            "gridwidth": 2,
            "linecolor": "white",
            "showbackground": true,
            "ticks": "",
            "zerolinecolor": "white"
           },
           "yaxis": {
            "backgroundcolor": "#E5ECF6",
            "gridcolor": "white",
            "gridwidth": 2,
            "linecolor": "white",
            "showbackground": true,
            "ticks": "",
            "zerolinecolor": "white"
           },
           "zaxis": {
            "backgroundcolor": "#E5ECF6",
            "gridcolor": "white",
            "gridwidth": 2,
            "linecolor": "white",
            "showbackground": true,
            "ticks": "",
            "zerolinecolor": "white"
           }
          },
          "shapedefaults": {
           "line": {
            "color": "#2a3f5f"
           }
          },
          "ternary": {
           "aaxis": {
            "gridcolor": "white",
            "linecolor": "white",
            "ticks": ""
           },
           "baxis": {
            "gridcolor": "white",
            "linecolor": "white",
            "ticks": ""
           },
           "bgcolor": "#E5ECF6",
           "caxis": {
            "gridcolor": "white",
            "linecolor": "white",
            "ticks": ""
           }
          },
          "title": {
           "x": 0.05
          },
          "xaxis": {
           "automargin": true,
           "gridcolor": "white",
           "linecolor": "white",
           "ticks": "",
           "title": {
            "standoff": 15
           },
           "zerolinecolor": "white",
           "zerolinewidth": 2
          },
          "yaxis": {
           "automargin": true,
           "gridcolor": "white",
           "linecolor": "white",
           "ticks": "",
           "title": {
            "standoff": 15
           },
           "zerolinecolor": "white",
           "zerolinewidth": 2
          }
         }
        },
        "title": {
         "text": "Job shop Schedule"
        },
        "xaxis": {
         "rangeselector": {
          "buttons": [
           {
            "count": 7,
            "label": "1w",
            "step": "day",
            "stepmode": "backward"
           },
           {
            "count": 1,
            "label": "1m",
            "step": "month",
            "stepmode": "backward"
           },
           {
            "count": 6,
            "label": "6m",
            "step": "month",
            "stepmode": "backward"
           },
           {
            "count": 1,
            "label": "YTD",
            "step": "year",
            "stepmode": "todate"
           },
           {
            "count": 1,
            "label": "1y",
            "step": "year",
            "stepmode": "backward"
           },
           {
            "step": "all"
           }
          ]
         },
         "showgrid": true,
         "type": "date",
         "zeroline": false
        },
        "yaxis": {
         "autorange": false,
         "range": [
          -1,
          11
         ],
         "showgrid": false,
         "ticktext": [
          "Machine 10",
          "Machine 9",
          "Machine 8",
          "Machine 7",
          "Machine 6",
          "Machine 5",
          "Machine 4",
          "Machine 3",
          "Machine 2",
          "Machine 1"
         ],
         "tickvals": [
          0,
          1,
          2,
          3,
          4,
          5,
          6,
          7,
          8,
          9
         ],
         "zeroline": false
        }
       }
      }
     },
     "metadata": {},
     "output_type": "display_data"
    }
   ],
   "source": [
    "import pandas as pd\n",
    "# import plotly.plotly as py\n",
    "from chart_studio import plotly as py\n",
    "from plotly.offline import iplot\n",
    "\n",
    "import plotly.figure_factory as ff\n",
    "import datetime\n",
    "\n",
    "m_keys=[j+1 for j in range(num_machine)]\n",
    "j_keys=[j for j in range(num_job)]\n",
    "key_count={key:0 for key in j_keys}\n",
    "j_count={key:0 for key in j_keys}\n",
    "m_count={key:0 for key in m_keys}\n",
    "j_record={}\n",
    "for i in sequence_best:\n",
    "    gen_t=int(pt[i][key_count[i]])\n",
    "    gen_m=int(ms[i][key_count[i]])\n",
    "    j_count[i]=j_count[i]+gen_t\n",
    "    m_count[gen_m]=m_count[gen_m]+gen_t\n",
    "    \n",
    "    if m_count[gen_m]<j_count[i]:\n",
    "        m_count[gen_m]=j_count[i]\n",
    "    elif m_count[gen_m]>j_count[i]:\n",
    "        j_count[i]=m_count[gen_m]\n",
    "    \n",
    "    start_time=str(datetime.timedelta(seconds=j_count[i]-pt[i][key_count[i]])) # convert seconds to hours, minutes and seconds\n",
    "    end_time=str(datetime.timedelta(seconds=j_count[i]))\n",
    "        \n",
    "    j_record[(i,gen_m)]=[start_time,end_time]\n",
    "    \n",
    "    key_count[i]=key_count[i]+1\n",
    "        \n",
    "\n",
    "df=[]\n",
    "for m in m_keys:\n",
    "    for j in j_keys:\n",
    "        df.append(dict(Task='Machine %s'%(m), Start='2023-10-15 %s'%(str(j_record[(j,m)][0])), Finish='2023-10-15 %s'%(str(j_record[(j,m)][1])),Resource='Job %s'%(j+1)))\n",
    "        # df.append(dict(Task='Machine %s'%(m), Start='2018-07-14 %s'%(str(j_record[(j,m)][0])), Finish='2018-07-14 %s'%(str(j_record[(j,m)][1])),Resource='Job %s'%(j+1)))\n",
    "\n",
    "fig = ff.create_gantt(df, index_col='Resource', show_colorbar=True, group_tasks=True, showgrid_x=True, title='Job shop Schedule')\n",
    "iplot(fig, filename='GA_job_shop_scheduling')"
   ]
  }
 ],
 "metadata": {
  "kernelspec": {
   "display_name": "tf_2.5_py_3.7",
   "language": "python",
   "name": "python3"
  },
  "language_info": {
   "codemirror_mode": {
    "name": "ipython",
    "version": 3
   },
   "file_extension": ".py",
   "mimetype": "text/x-python",
   "name": "python",
   "nbconvert_exporter": "python",
   "pygments_lexer": "ipython3",
   "version": "3.7.16"
  }
 },
 "nbformat": 4,
 "nbformat_minor": 2
}
